{
 "cells": [
  {
   "cell_type": "markdown",
   "metadata": {},
   "source": [
    "### 박스 플롯 \n",
    "- 범주형 데이터의 분포를 파악하는데 적합\n",
    "- boxplot() 메소드 사용하며 vert = False 옵션을 사용하여 수평 박스 플롯 그림 "
   ]
  },
  {
   "cell_type": "code",
   "execution_count": null,
   "metadata": {},
   "outputs": [],
   "source": [
    "import pandas as pd \n",
    "import matplotlib.pyplot as plt \n",
    "\n",
    "from matplotlib import font_manager, rc \n",
    "font_path = 'C:\\\\Users\\\\jswoo\\\\Desktop\\\\Repository\\\\Study_Data_Science\\\\Pandas_Data_Analytics\\\\Part04\\\\malgun.ttf'\n",
    "font_name = font_manager.FontProperties(fname = font_path).get_name()\n",
    "rc('font', family = font_name)\n",
    "\n",
    "plt.style.use('seaborn-poster')\n",
    "plt.rcParams['axes.unicode_minus'] = False\n",
    "\n",
    "path = 'C:\\\\Users\\\\jswoo\\\\Desktop\\\\Repository\\\\Study_Data_Science\\\\Pandas_Data_Analytics\\\\Part04\\\\auto-mpg.csv'\n",
    "df = pd.read_csv(path, header=None)\n",
    "\n",
    "df.columns = ['mpg', 'cylinders', 'displacement', 'horsepower', 'weight', \n",
    "'acceleration', 'model year', 'origin', 'name']\n",
    "\n",
    "fig = plt.figure(figsize = (15, 5)) \n",
    "ax1 = fig.add_subplot(1, 2, 1)\n",
    "ax2 = fig.add_subplot(1, 2, 2)\n",
    "\n",
    "ax1.boxplot(x = [df[df['origin'] == 1]['mpg'],\n",
    "                 df[df['origin'] == 2]['mpg'],\n",
    "                 df[df['origin'] == 3]['mpg']],\n",
    "            labels = ['USA', 'EU', 'JAPAN'])\n",
    "\n",
    "ax2.boxplot(x = [df[df['origin'] == 1]['mpg'],\n",
    "                 df[df['origin'] == 2]['mpg'],\n",
    "                 df[df['origin'] == 3]['mpg']],\n",
    "            labels = ['USA', 'EU', 'JAPAN'], \n",
    "            vert = False)"
   ]
  }
 ],
 "metadata": {
  "language_info": {
   "name": "python"
  },
  "orig_nbformat": 4
 },
 "nbformat": 4,
 "nbformat_minor": 2
}
