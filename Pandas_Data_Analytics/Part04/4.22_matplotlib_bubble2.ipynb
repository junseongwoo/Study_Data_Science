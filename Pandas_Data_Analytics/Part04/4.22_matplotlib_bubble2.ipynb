{
 "cells": [
  {
   "cell_type": "markdown",
   "metadata": {},
   "source": [
    "### 그래프를 그림 파일로 저장\n",
    "- matplotlib 라이브러리로 생성한 그래프를 파일로 저장하는 방법\n",
    "- savefig() 함수에 저장하려는 파일의 이름과 파일 경로 설정 \n",
    "- transparent= True 옵션으로 그림 배경을 투명하게 지정\n",
    "- 색상을 정하는 컬러맵(cmap)으로 'viridis' 옵션 사용"
   ]
  },
  {
   "cell_type": "code",
   "execution_count": 1,
   "metadata": {},
   "outputs": [],
   "source": [
    "import pandas as pd \n",
    "import matplotlib.pyplot as plt \n",
    "\n",
    "plt.style.use('default')\n",
    "\n",
    "path = 'C:\\\\Users\\\\jswoo\\\\Desktop\\\\Repository\\\\Study_Data_Science\\\\Pandas_Data_Analytics\\\\Part04\\\\auto-mpg.csv'\n",
    "df = pd.read_csv(path, header = None)\n",
    "\n",
    "df.columns = ['mpg', 'cylinders', 'displacement', 'horsepower', 'weight', \n",
    "'acceleration', 'model year', 'origin', 'name']"
   ]
  },
  {
   "cell_type": "code",
   "execution_count": null,
   "metadata": {},
   "outputs": [],
   "source": [
    "cylcylinders_size = df.cylinders/df.cylinders.max() * 300\n",
    "\n",
    "df.plot(kind = 'scatter', x = 'weight', y = 'mpg', c = 'coral', figsize = (10, 5),\n",
    "s = cylinders_size, alpha = 0.3)\n",
    "\n",
    "plt.title('Scatter Plot : mpg-weight-cylinders')\n",
    "plt.show()"
   ]
  }
 ],
 "metadata": {
  "interpreter": {
   "hash": "efddc2e8d2dadd0ba13ae7128c02d630b24f1fdb7d9bd6bad5a6da54781ea1ce"
  },
  "kernelspec": {
   "display_name": "Python 3.6.8 ('venv': venv)",
   "language": "python",
   "name": "python3"
  },
  "language_info": {
   "codemirror_mode": {
    "name": "ipython",
    "version": 3
   },
   "file_extension": ".py",
   "mimetype": "text/x-python",
   "name": "python",
   "nbconvert_exporter": "python",
   "pygments_lexer": "ipython3",
   "version": "3.6.8"
  },
  "orig_nbformat": 4
 },
 "nbformat": 4,
 "nbformat_minor": 2
}
