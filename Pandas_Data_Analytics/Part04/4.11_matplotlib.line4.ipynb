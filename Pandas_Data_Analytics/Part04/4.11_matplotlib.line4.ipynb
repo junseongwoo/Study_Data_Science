{
 "cells": [
  {
   "cell_type": "markdown",
   "metadata": {},
   "source": [
    "### 같은 객체에 분할하여 그래프 그리기"
   ]
  },
  {
   "cell_type": "code",
   "execution_count": 1,
   "metadata": {},
   "outputs": [],
   "source": [
    "import pandas as pd\n",
    "import matplotlib.pyplot as plt\n",
    "from matplotlib import font_manager, rc \n",
    "font_path = 'C:\\\\Users\\\\jswoo\\\\Desktop\\\\Repository\\\\Study_Data_Science\\\\Pandas_Data_Analytics\\\\Part04\\\\malgun.ttf'\n",
    "font_name = font_manager.FontProperties(fname=font_path).get_name()\n",
    "rc('font', family = font_name)\n",
    "\n",
    "path = 'C:\\\\Users\\\\jswoo\\\\Desktop\\\\Repository\\\\Study_Data_Science\\\\Pandas_Data_Analytics\\\\Part04\\\\시도별 전출입 인구수.xlsx'\n",
    "df = pd.read_excel(path, header =0, engine='openpyxl')\n",
    "\n",
    "df = df.fillna(method='ffill')\n",
    "\n",
    "mask = (df['전출지별'] == '서울특별시') & (df['전입지별'] != '서울특별시')\n",
    "df_seoul = df[mask]\n",
    "df_seoul = df_seoul.drop(['전출지별'], axis = 1)\n",
    "df_seoul.rename({'전입지별':'전입지'}, axis = 1, inplace =True)\n",
    "df_seoul.set_index('전입지', inplace=True)\n",
    "\n",
    "sr_one = df_seoul.loc['경기도']\n",
    "\n",
    "plt.style.use('ggplot')"
   ]
  },
  {
   "cell_type": "code",
   "execution_count": null,
   "metadata": {},
   "outputs": [],
   "source": [
    "col_years = list(map(str, range(1970, 2018)))\n",
    "df_4 = df_seoul.loc[['충청남도', '경상북도', '강원도', '전라남도'], col_years]\n",
    "\n",
    "fig = plt.figure(figsize = (20, 10))\n",
    "ax1 = fig.add_subplot(2,2,1)\n",
    "ax2 = fig.add_subplot(2,2,2)\n",
    "ax3 = fig.add_subplot(2,2,3)\n",
    "ax4 = fig.add_subplot(2,2,4)\n",
    "\n",
    "\n",
    "ax1.plot(col_years, df_4.loc['충청남도', :], marker = 'o', markerfacecolor = 'green',\n",
    "        markersize = 10, color = 'olive', linewidth= 2, label = '서울 -> 충남')\n",
    "ax2.plot(col_years, df_4.loc['경상북도', :], marker = 'o', markerfacecolor = 'blue',\n",
    "        markersize = 10, color = 'skyblue', linewidth= 2, label = '서울 -> 경북')\n",
    "ax3.plot(col_years, df_4.loc['강원도', :], marker = 'o', markerfacecolor = 'red',\n",
    "        markersize = 10, color = 'magenta', linewidth= 2, label = '서울 -> 강원')\n",
    "ax4.plot(col_years, df_4.loc['전라남도', :], marker = 'o', markerfacecolor = 'orange',\n",
    "        markersize = 10, color = 'yellow', linewidth= 2, label = '서울 -> 전남')\n",
    "\n",
    "ax1.legend(loc = 'best')\n",
    "ax2.legend(loc = 'best')\n",
    "ax3.legend(loc = 'best')\n",
    "ax4.legend(loc = 'best')\n",
    "\n",
    "ax1.set_title('서울 -> 충남 인구 이동', size = 20)\n",
    "ax2.set_title('서울 -> 경북 인구 이동', size = 20)\n",
    "ax3.set_title('서울 -> 강원 인구 이동', size = 20)\n",
    "ax4.set_title('서울 -> 전남 인구 이동', size = 20)\n",
    "\n",
    "ax1.set_xticklabels(col_years, rotation = 90)\n",
    "ax2.set_xticklabels(col_years, rotation = 90)\n",
    "ax3.set_xticklabels(col_years, rotation = 90)\n",
    "ax4.set_xticklabels(col_years, rotation = 90)\n",
    "\n",
    "plt.show()"
   ]
  },
  {
   "cell_type": "code",
   "execution_count": null,
   "metadata": {},
   "outputs": [],
   "source": []
  }
 ],
 "metadata": {
  "interpreter": {
   "hash": "efddc2e8d2dadd0ba13ae7128c02d630b24f1fdb7d9bd6bad5a6da54781ea1ce"
  },
  "kernelspec": {
   "display_name": "Python 3.6.8 ('venv': venv)",
   "language": "python",
   "name": "python3"
  },
  "language_info": {
   "codemirror_mode": {
    "name": "ipython",
    "version": 3
   },
   "file_extension": ".py",
   "mimetype": "text/x-python",
   "name": "python",
   "nbconvert_exporter": "python",
   "pygments_lexer": "ipython3",
   "version": "3.6.8"
  },
  "orig_nbformat": 4
 },
 "nbformat": 4,
 "nbformat_minor": 2
}
