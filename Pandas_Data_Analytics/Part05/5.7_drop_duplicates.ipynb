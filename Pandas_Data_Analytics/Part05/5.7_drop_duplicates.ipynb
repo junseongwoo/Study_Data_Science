{
 "cells": [
  {
   "cell_type": "markdown",
   "metadata": {},
   "source": [
    "### 중복 데이터 제거\n",
    "- drop_duplicates() 메소드로 중복 데이터를 제거 \n",
    "- 중복되는 행을 제거 하고 고유한 관측값을 가진 행들만 남김 "
   ]
  },
  {
   "cell_type": "code",
   "execution_count": null,
   "metadata": {},
   "outputs": [],
   "source": [
    "import pandas as pd\n",
    "\n",
    "df = pd.DataFrame({'c1' : ['a', 'a', 'b', 'a', 'b'],\n",
    "               'c2' : [1, 1, 1, 2, 2],\n",
    "               'c3' : [1, 1, 2, 2, 2]})"
   ]
  }
 ],
 "metadata": {
  "language_info": {
   "name": "python"
  },
  "orig_nbformat": 4
 },
 "nbformat": 4,
 "nbformat_minor": 2
}
